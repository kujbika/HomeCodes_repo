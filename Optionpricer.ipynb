{
 "cells": [
  {
   "cell_type": "markdown",
   "metadata": {},
   "source": [
    "Binomial price convergence to Black-Scholes equivalent"
   ]
  },
  {
   "cell_type": "code",
   "execution_count": 14,
   "metadata": {},
   "outputs": [],
   "source": [
    "import scipy.stats as ss\n",
    "import numpy as np"
   ]
  },
  {
   "cell_type": "code",
   "execution_count": 64,
   "metadata": {},
   "outputs": [],
   "source": [
    "def BinomPricer(typ, s0, k, vol, r, t, n):\n",
    "    \"\"\"\n",
    "    BinomPricer prices a european call or put option with\n",
    "    a binomial tree with n steps\n",
    "    \"\"\"\n",
    "    u = np.exp(vol * np.sqrt(t / n)) #to match volatility\n",
    "    d = 1 / u\n",
    "    a = ss.binom(n = n, p = ((np.exp(r * (t / n))) - d) / (u - d))\n",
    "    probs = np.array([])\n",
    "    for i in range(n + 1):\n",
    "        probs = np.append(probs, a.pmf(k = i))\n",
    "    prices = np.array([])\n",
    "    for i in range(n + 1):\n",
    "        if typ.lower() == 'call':\n",
    "            value = max( s0 * u**i * d**(n - i) - k, 0)\n",
    "        if typ.lower() == 'put':\n",
    "            value = max( k - s0 * u**i * d**(n - i), 0)\n",
    "        prices = np.append(prices, [value])\n",
    "    optionprice = np.inner(probs, prices) * np.exp(-r * t)\n",
    "    return optionprice  "
   ]
  },
  {
   "cell_type": "code",
   "execution_count": 65,
   "metadata": {},
   "outputs": [],
   "source": [
    "call = BinomPricer(typ = 'call', s0 = 100, k = 100, vol = 0.1, r = 0.05, t = 2, n = 10000)\n",
    "put = BinomPricer(typ = 'put', s0 = 100, k = 100, vol = 0.1, r = 0.05, t = 2, n = 10000)"
   ]
  },
  {
   "cell_type": "code",
   "execution_count": 67,
   "metadata": {},
   "outputs": [
    {
     "data": {
      "text/plain": [
       "9.516258196291666"
      ]
     },
     "execution_count": 67,
     "metadata": {},
     "output_type": "execute_result"
    }
   ],
   "source": [
    "call-put"
   ]
  },
  {
   "cell_type": "code",
   "execution_count": 59,
   "metadata": {},
   "outputs": [
    {
     "data": {
      "text/plain": [
       "9.516258196404053"
      ]
     },
     "execution_count": 59,
     "metadata": {},
     "output_type": "execute_result"
    }
   ],
   "source": [
    "100 - 100 * np.exp(-0.05*2)"
   ]
  },
  {
   "cell_type": "code",
   "execution_count": 60,
   "metadata": {},
   "outputs": [],
   "source": [
    "def d1(S0, K, r, sigma, T):\n",
    "    return (np.log(S0/K) + (r + sigma**2 / 2) * T)/(sigma * np.sqrt(T))\n",
    " \n",
    "def d2(S0, K, r, sigma, T):\n",
    "    return (np.log(S0 / K) + (r - sigma**2 / 2) * T) / (sigma * np.sqrt(T))\n",
    " \n",
    "def BlackScholes(type,S0, K, r, sigma, T):\n",
    "    if type==\"C\":\n",
    "        return S0 * ss.norm.cdf(d1(S0, K, r, sigma, T)) - K * np.exp(-r * T) * ss.norm.cdf(d2(S0, K, r, sigma, T))\n",
    "    else:\n",
    "        return K * np.exp(-r * T) * ss.norm.cdf(-d2(S0, K, r, sigma, T)) - S0 * ss.norm.cdf(-d1(S0, K, r, sigma, T))"
   ]
  },
  {
   "cell_type": "code",
   "execution_count": 61,
   "metadata": {},
   "outputs": [
    {
     "data": {
      "text/plain": [
       "11.412614831692593"
      ]
     },
     "execution_count": 61,
     "metadata": {},
     "output_type": "execute_result"
    }
   ],
   "source": [
    "BlackScholes('C', 100, 100, 0.05, 0.1, 2)"
   ]
  },
  {
   "cell_type": "code",
   "execution_count": null,
   "metadata": {},
   "outputs": [],
   "source": []
  }
 ],
 "metadata": {
  "kernelspec": {
   "display_name": "Python 3",
   "language": "python",
   "name": "python3"
  },
  "language_info": {
   "codemirror_mode": {
    "name": "ipython",
    "version": 3
   },
   "file_extension": ".py",
   "mimetype": "text/x-python",
   "name": "python",
   "nbconvert_exporter": "python",
   "pygments_lexer": "ipython3",
   "version": "3.6.6"
  }
 },
 "nbformat": 4,
 "nbformat_minor": 2
}
