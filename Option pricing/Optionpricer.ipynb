{
 "cells": [
  {
   "cell_type": "markdown",
   "metadata": {},
   "source": [
    "# Binomial tree pricing convergence to Black-Scholes equivalent"
   ]
  },
  {
   "cell_type": "code",
   "execution_count": 14,
   "metadata": {},
   "outputs": [],
   "source": [
    "import scipy.stats as ss\n",
    "import numpy as np"
   ]
  },
  {
   "cell_type": "markdown",
   "metadata": {},
   "source": [
    "## Binomial tree pricing"
   ]
  },
  {
   "cell_type": "code",
   "execution_count": 64,
   "metadata": {},
   "outputs": [],
   "source": [
    "def BinomPricer(typ, s0, k, vol, r, t, n):\n",
    "    \"\"\"\n",
    "    BinomPricer prices a european call or put option with\n",
    "    a binomial tree with n steps using the risk-neutral valuation technique.\n",
    "    \"\"\"\n",
    "    u = np.exp(vol * np.sqrt(t / n)) #to match volatility\n",
    "    d = 1 / u\n",
    "    a = ss.binom(n = n, p = ((np.exp(r * (t / n))) - d) / (u - d))\n",
    "    probs = np.array([])\n",
    "    for i in range(n + 1):\n",
    "        probs = np.append(probs, a.pmf(k = i))\n",
    "    prices = np.array([])\n",
    "    for i in range(n + 1):\n",
    "        if typ.lower() == 'call':\n",
    "            value = max( s0 * u**i * d**(n - i) - k, 0)\n",
    "        if typ.lower() == 'put':\n",
    "            value = max( k - s0 * u**i * d**(n - i), 0)\n",
    "        prices = np.append(prices, [value])\n",
    "    optionprice = np.inner(probs, prices) * np.exp(-r * t)\n",
    "    return optionprice  "
   ]
  },
  {
   "cell_type": "code",
   "execution_count": 89,
   "metadata": {},
   "outputs": [],
   "source": [
    "#Defining the inputs\n",
    "s0 = 100\n",
    "k = 100\n",
    "vol = 0.1\n",
    "r = 0.05\n",
    "t = 2\n",
    "n = 100000"
   ]
  },
  {
   "cell_type": "code",
   "execution_count": 90,
   "metadata": {},
   "outputs": [],
   "source": [
    "call_binom = BinomPricer(typ = 'call', s0 = s0, k = k, vol = vol, r = r, t = t, n = n)\n",
    "put_binom = BinomPricer(typ = 'put', s0 = s0, k = k, vol = vol, r = r, t = t, n = n)"
   ]
  },
  {
   "cell_type": "code",
   "execution_count": 91,
   "metadata": {},
   "outputs": [
    {
     "data": {
      "text/plain": [
       "-1.757515022404732e-09"
      ]
     },
     "execution_count": 91,
     "metadata": {},
     "output_type": "execute_result"
    }
   ],
   "source": [
    "#Put-call parity\n",
    "(call_binom - put_binom) - (s0 - k * np.exp(-r * t))"
   ]
  },
  {
   "cell_type": "markdown",
   "metadata": {},
   "source": [
    "***\n",
    "## Black-Scholes pricing"
   ]
  },
  {
   "cell_type": "code",
   "execution_count": 92,
   "metadata": {},
   "outputs": [],
   "source": [
    "def d1(S0, K, r, vol, T):\n",
    "    return (np.log(S0/K) + (r + vol**2 / 2) * T)/(vol * np.sqrt(T))\n",
    " \n",
    "def d2(S0, K, r, vol, T):\n",
    "    return (np.log(S0 / K) + (r - vol**2 / 2) * T) / (vol * np.sqrt(T))\n",
    " \n",
    "def BlackScholes(type,S0, K, r, vol, T):\n",
    "    if type.lower() ==\"call\":\n",
    "        return S0 * ss.norm.cdf(d1(S0, K, r, vol, T)) - K * np.exp(-r * T) * ss.norm.cdf(d2(S0, K, r, vol, T))\n",
    "    else:\n",
    "        return K * np.exp(-r * T) * ss.norm.cdf(-d2(S0, K, r, vol, T)) - S0 * ss.norm.cdf(-d1(S0, K, r, vol, T))"
   ]
  },
  {
   "cell_type": "code",
   "execution_count": 93,
   "metadata": {},
   "outputs": [],
   "source": [
    "call_bs = BlackScholes('Call', s0, k, r, vol, t)"
   ]
  },
  {
   "cell_type": "markdown",
   "metadata": {},
   "source": [
    "## Comparison"
   ]
  },
  {
   "cell_type": "code",
   "execution_count": 94,
   "metadata": {},
   "outputs": [
    {
     "data": {
      "text/plain": [
       "11.412614831692593"
      ]
     },
     "execution_count": 94,
     "metadata": {},
     "output_type": "execute_result"
    }
   ],
   "source": [
    "call_bs"
   ]
  },
  {
   "cell_type": "code",
   "execution_count": 95,
   "metadata": {},
   "outputs": [
    {
     "data": {
      "text/plain": [
       "11.412599177953366"
      ]
     },
     "execution_count": 95,
     "metadata": {},
     "output_type": "execute_result"
    }
   ],
   "source": [
    "call_binom"
   ]
  },
  {
   "cell_type": "code",
   "execution_count": 96,
   "metadata": {},
   "outputs": [
    {
     "data": {
      "text/plain": [
       "1.5653739227516894e-05"
      ]
     },
     "execution_count": 96,
     "metadata": {},
     "output_type": "execute_result"
    }
   ],
   "source": [
    "call_bs - call_binom"
   ]
  }
 ],
 "metadata": {
  "kernelspec": {
   "display_name": "Python 3",
   "language": "python",
   "name": "python3"
  },
  "language_info": {
   "codemirror_mode": {
    "name": "ipython",
    "version": 3
   },
   "file_extension": ".py",
   "mimetype": "text/x-python",
   "name": "python",
   "nbconvert_exporter": "python",
   "pygments_lexer": "ipython3",
   "version": "3.6.6"
  }
 },
 "nbformat": 4,
 "nbformat_minor": 2
}
