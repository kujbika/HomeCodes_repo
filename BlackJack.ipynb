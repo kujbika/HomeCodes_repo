{
 "cells": [
  {
   "cell_type": "markdown",
   "metadata": {},
   "source": [
    "## Black Jack code ##\n",
    "Below is an implementation of a simple game of Blackjack. Notice the use of OOP and classes for the cards and players."
   ]
  },
  {
   "cell_type": "code",
   "execution_count": 10,
   "metadata": {},
   "outputs": [],
   "source": [
    "suits = ['Hearts', 'Diamonds', 'Spades', 'Clubs']\n",
    "ranks = ['Two', 'Three', 'Four', 'Five', 'Six', 'Seven', 'Eight', 'Nine', 'Ten', 'Jack', 'Queen', 'King', 'Ace']\n",
    "values = {'Two':2, 'Three':3, 'Four':4, 'Five':5, 'Six':6, 'Seven':7, 'Eight':8, 'Nine':9, 'Ten':10, 'Jack':10,\n",
    "         'Queen':10, 'King':10, 'Ace':11}"
   ]
  },
  {
   "cell_type": "code",
   "execution_count": 11,
   "metadata": {
    "scrolled": true
   },
   "outputs": [],
   "source": [
    "class Card():\n",
    "    def __init__( self, suit, rank):\n",
    "        self.suit = suit\n",
    "        self.rank = rank\n",
    "        self.value = values[ rank ]\n",
    "    def __str__(self):\n",
    "        return (f\"{self.rank} of {self.suit}\")"
   ]
  },
  {
   "cell_type": "code",
   "execution_count": 12,
   "metadata": {
    "scrolled": true
   },
   "outputs": [],
   "source": [
    "class Player():\n",
    "    def __init__( self, balance = 100):\n",
    "        self.balance = balance\n",
    "    def win( self, amount):\n",
    "        self.balance += amount\n",
    "    def lose( self, amount):\n",
    "        self.balance -= amount"
   ]
  },
  {
   "cell_type": "code",
   "execution_count": 13,
   "metadata": {
    "scrolled": true
   },
   "outputs": [],
   "source": [
    "def choose(d):\n",
    "    import random\n",
    "    c = random.choice(d)\n",
    "    d.remove( c )\n",
    "    return ( Card( c[ 0 ], c[ 1 ] ) )\n",
    "    "
   ]
  },
  {
   "cell_type": "code",
   "execution_count": 14,
   "metadata": {},
   "outputs": [],
   "source": [
    "def winner( pl, de, p, am):\n",
    "    if pl > 21:\n",
    "        p.lose( am )\n",
    "        print (f\"You busted. Current balance is {p.balance}.\\n\")\n",
    "        if p.balance < 1 :\n",
    "            print(\"You have no money left, I'm sorry. It was a good game though.\")\n",
    "    elif de > 21 and pl < 22:\n",
    "        p.win( am )\n",
    "        print (f\"Dealer busted. Current balance is {p.balance}.\")\n",
    "    elif pl > de:\n",
    "        p.win( am )\n",
    "        print(f\"You won. Current balance is {p.balance}.\")\n",
    "    elif de > pl:\n",
    "        p.lose( am )\n",
    "        print(f\"Dealer won. Current balance is {p.balance}.\\n\")\n",
    "        if p.balance < 1:\n",
    "            print(\"You have no money left, I'm sorry. It was a good game though.\")\n",
    "    else:\n",
    "        print(f\"Values are equal, it is a push. Current balance is {p.balance}\")"
   ]
  },
  {
   "cell_type": "code",
   "execution_count": 15,
   "metadata": {
    "scrolled": true
   },
   "outputs": [],
   "source": [
    "def blackjack():\n",
    "    playing = 'yes'\n",
    "    print(\"Welcome to BlackJack!\")\n",
    "    while playing == 'yes':\n",
    "        try:\n",
    "            p\n",
    "        except NameError:\n",
    "            p = Player(int(input(\"What is your initial balance? \")))\n",
    "        player_aces = 0\n",
    "        dealer_aces = 0\n",
    "        deck = [[ x, y] for x in suits for y in ranks]\n",
    "        am = p.balance + 1\n",
    "        while am > p.balance:\n",
    "            am = int( input( f\"How many dollars would you like to bet? You cannot use more than your current balance ({p.balance} chips). \"))\n",
    "        d0 = choose(deck)\n",
    "        d1 = choose(deck)\n",
    "        if d0.rank == 'Ace' or d1.rank == 'Ace':\n",
    "            dealer_aces = 1\n",
    "        dealer_value = d0.value + d1.value\n",
    "        p1 = choose(deck)\n",
    "        p2 = choose(deck)\n",
    "        if p1.rank == 'Ace' or p2.rank == 'Ace':\n",
    "            player_aces = 1\n",
    "        player_value = p1.value + p2.value\n",
    "        print(f\"\\nDealer's Hand:\\n<card hidden>\\n{d1}\\n\")\n",
    "        print(f\"Your Hand:\\n{p1}\\n{p2}\\n\")\n",
    "        hs = 'hit'\n",
    "        while hs == 'hit':\n",
    "            hs = input(\"Would you like to hit or stand? Write hit or stand \")\n",
    "            while hs != 'hit' and hs!='stand':\n",
    "                hs = input(\"Would you like to hit or stand? Write hit or stand \")\n",
    "            if hs == 'hit':\n",
    "                p_new = choose(deck)\n",
    "                player_aces += int(p_new.rank=='Ace')\n",
    "                player_value += p_new.value\n",
    "                print(f'Your next card is {p_new}.')\n",
    "                if player_value > 21 and player_aces:\n",
    "                    player_value -= 10\n",
    "                    player_aces -= 1\n",
    "                print(f'Total value is {player_value}.')\n",
    "                if player_value > 21:\n",
    "                    winner(player_value,dealer_value,p,am)\n",
    "                    break\n",
    "            if hs == 'stand':\n",
    "                if dealer_value > 16:\n",
    "                    print(f\"Dealer's Hand:\\n{d0}\\n{d1}\\nTotal Value is {dealer_value}\\n\")\n",
    "                    winner(player_value, dealer_value, p, am)\n",
    "                    break\n",
    "                print (f\"Dealer's hidden card is {d0}\")\n",
    "                while dealer_value < 17:\n",
    "                    d_new = choose(deck)\n",
    "                    dealer_aces += int(d_new.rank == 'Ace')\n",
    "                    dealer_value += d_new.value\n",
    "                    print(f\"Dealer's next card is {d_new}.\")\n",
    "                    if dealer_value > 21 and dealer_aces:\n",
    "                        dealer_value -= 10\n",
    "                        dealer_aces -= 1\n",
    "                    print(f'Total value is {dealer_value}.')\n",
    "                winner( player_value, dealer_value, p, am)\n",
    "        if p.balance > 0:\n",
    "            playing = 'NULL'\n",
    "            while playing != 'yes' and playing != 'no':\n",
    "                playing = input(\"Do you wanna place another bet? Type yes or no: \")\n",
    "            if playing == 'no':\n",
    "                print(\"It was a nice game though. See you next time!\")\n",
    "        else:\n",
    "            playing = 'no'"
   ]
  },
  {
   "cell_type": "code",
   "execution_count": 16,
   "metadata": {},
   "outputs": [
    {
     "name": "stdout",
     "output_type": "stream",
     "text": [
      "Welcome to BlackJack!\n",
      "What is your initial balance? 100\n",
      "How many dollars would you like to bet? You cannot use more than your current balance (100 chips). 100\n",
      "\n",
      "Dealer's Hand:\n",
      "<card hidden>\n",
      "Four of Clubs\n",
      "\n",
      "Your Hand:\n",
      "Three of Spades\n",
      "Eight of Clubs\n",
      "\n",
      "Would you like to hit or stand? Write hit or stand hit\n",
      "Your next card is Ace of Spades.\n",
      "Total value is 12.\n",
      "Would you like to hit or stand? Write hit or stand hit\n",
      "Your next card is Five of Spades.\n",
      "Total value is 17.\n",
      "Would you like to hit or stand? Write hit or stand hit\n",
      "Your next card is Eight of Diamonds.\n",
      "Total value is 25.\n",
      "You busted. Current balance is 0.\n",
      "\n",
      "You have no money left, I'm sorry. It was a good game though.\n"
     ]
    }
   ],
   "source": [
    "blackjack()"
   ]
  }
 ],
 "metadata": {
  "kernelspec": {
   "display_name": "Python 3",
   "language": "python",
   "name": "python3"
  },
  "language_info": {
   "codemirror_mode": {
    "name": "ipython",
    "version": 3
   },
   "file_extension": ".py",
   "mimetype": "text/x-python",
   "name": "python",
   "nbconvert_exporter": "python",
   "pygments_lexer": "ipython3",
   "version": "3.6.6"
  }
 },
 "nbformat": 4,
 "nbformat_minor": 2
}
