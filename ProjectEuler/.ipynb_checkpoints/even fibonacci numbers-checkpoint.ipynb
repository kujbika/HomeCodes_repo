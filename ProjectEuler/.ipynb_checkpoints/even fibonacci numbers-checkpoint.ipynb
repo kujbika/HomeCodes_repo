{
 "cells": [
  {
   "cell_type": "code",
   "execution_count": 14,
   "metadata": {
    "scrolled": true
   },
   "outputs": [
    {
     "name": "stdout",
     "output_type": "stream",
     "text": [
      "4613732\n"
     ]
    }
   ],
   "source": [
    "fib=[1,2]\n",
    "addlist=[1,1]\n",
    "while fib[-1]<4000000:\n",
    "    i=sum([i*j for (i, j) in zip(fib, addlist)])\n",
    "    fib.append(i)\n",
    "    addlist.insert(0,0)\n",
    "fib[-1]=0\n",
    "answer=sum([j for j in fib if j%2==0])\n",
    "print(answer)"
   ]
  },
  {
   "cell_type": "code",
   "execution_count": null,
   "metadata": {},
   "outputs": [],
   "source": []
  }
 ],
 "metadata": {
  "kernelspec": {
   "display_name": "Python 3",
   "language": "python",
   "name": "python3"
  },
  "language_info": {
   "codemirror_mode": {
    "name": "ipython",
    "version": 3
   },
   "file_extension": ".py",
   "mimetype": "text/x-python",
   "name": "python",
   "nbconvert_exporter": "python",
   "pygments_lexer": "ipython3",
   "version": "3.6.5"
  }
 },
 "nbformat": 4,
 "nbformat_minor": 2
}
